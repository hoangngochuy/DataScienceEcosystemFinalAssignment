{
 "cells": [
  {
   "cell_type": "markdown",
   "id": "5be69236",
   "metadata": {},
   "source": [
    "<h1><strong>Assignment Topic:</h1>\n",
    "<h5>I was provided with an empty Jupyterlite notebook which I will launch in the course, to complete this assignment. I need to include a combination of markdown and code cells.</h5>\n",
    "<h5>There are a total of 25 points possible for this final project.</h5>\n",
    "<h5>Your grade will be based on the following Exercises:</h5>\n",
    "<ol>\n",
    "    <li>Exercise 2 - Create a markdown cell with the title of the notebook. (1 pt)</li>\n",
    "    <li>Exercise 3 - Create a markdown cell for an introduction. (1 pt)</li>\n",
    "    <li>Exercise 4 - Create a markdown cell to list data science languages. (3 pts)</li>\n",
    "    <li>Exercise 5 - Create a markdown cell to list data science libraries. (3 pts)</li>\n",
    "    <li>Exercise 6 - Create a markdown cell with a table of Data Science tools. (3 pts)</li>\n",
    "    <li>Exercise 7 - Create a markdown cell introducing arithmetic expression examples. (1 pt)</li>\n",
    "    <li>Exercise 8 - Create a code cell to multiply and add numbers. (2 pts)</li>\n",
    "    <li>Exercise 9 - Create a code cell to convert minutes to hours. (2 pts)</li>\n",
    "    <li>Exercise 10 -Insert a markdown cell to list Objectives. (3 pts)</li>\n",
    "    <li>Exercise 11 - Create a markdown cell to indicate the Author’s name. (2 pts)</li>\n",
    "    <li>Exercise 12 - Share your notebook through GitHub (3 pts)</li>\n",
    "    <li>Exercise 13 - Take a screenshot of the first page of the notebook. (1 pt)</li>\n",
    "</ol>"
   ]
  },
  {
   "cell_type": "markdown",
   "id": "94a09bc8",
   "metadata": {},
   "source": [
    "<h5>Exercise 1: Create a Jupyter Notebook</h5>"
   ]
  },
  {
   "cell_type": "markdown",
   "id": "7fc85004",
   "metadata": {},
   "source": [
    "<h3><strong>Name: DataScienceEcosystem.ipynb</strong> </h3>"
   ]
  },
  {
   "cell_type": "markdown",
   "id": "67141645",
   "metadata": {},
   "source": [
    "<h5>Exercise 2: Create markdown cell with title of the notebook</h5>"
   ]
  },
  {
   "cell_type": "markdown",
   "id": "f12b7098",
   "metadata": {},
   "source": [
    "<h1>Data Science Tools and Ecosystem</h1>"
   ]
  },
  {
   "cell_type": "markdown",
   "id": "102cc87d",
   "metadata": {},
   "source": [
    "<h5>Exercise 3 - Create a markdown cell for an introduction</h5>"
   ]
  },
  {
   "cell_type": "markdown",
   "id": "fdd39674",
   "metadata": {},
   "source": [
    "In this notebook, Data Science Tools and Ecosystem are summarized."
   ]
  },
  {
   "cell_type": "markdown",
   "id": "2efee3b8",
   "metadata": {},
   "source": [
    "<h5>Exercise 10 - Insert a markdown cell to list Objectives</h5>"
   ]
  },
  {
   "cell_type": "markdown",
   "id": "d0d55b95",
   "metadata": {},
   "source": [
    "<strong>Objectives:</strong>\n",
    "<ul>\n",
    "    <li>List popular languages that Data Scientists use.</li>\n",
    "    <li>List commonly libraries used by Data Scientists.</li>\n",
    "    <li>Comment on Data Science tools.</li>\n",
    "</ul>"
   ]
  },
  {
   "cell_type": "markdown",
   "id": "c5c5d50c",
   "metadata": {},
   "source": [
    "<h5>Exercise 4 - Create a markdown cell to list data science languages</h5>"
   ]
  },
  {
   "cell_type": "markdown",
   "id": "1583bc72",
   "metadata": {},
   "source": [
    "Some of the popular languages that Data Scientists use are:"
   ]
  },
  {
   "cell_type": "markdown",
   "id": "5b52202b",
   "metadata": {},
   "source": [
    "<ol><li>Python</li><li>R</li><li>SQL</li><li>Javascript</li><li>Scala</li></ol>"
   ]
  },
  {
   "cell_type": "markdown",
   "id": "45275d97",
   "metadata": {},
   "source": [
    "<h5>Exercise 5 - Create a markdown cell to list data science libraries</h5>"
   ]
  },
  {
   "cell_type": "markdown",
   "id": "816e688c",
   "metadata": {},
   "source": [
    "Some of the commonly used libraries used by Data Scientists include:"
   ]
  },
  {
   "cell_type": "markdown",
   "id": "d67a82cf",
   "metadata": {},
   "source": [
    "<ol><li>NumPy</li><li>Pandas</li><li>SciPy</li><li>TensorFlow</li><li>Matplotlib</li></ol>"
   ]
  },
  {
   "cell_type": "markdown",
   "id": "416011cc",
   "metadata": {},
   "source": [
    "<h5>Exercise 6 - Create a markdown cell with a table of Data Science tools</h5>"
   ]
  },
  {
   "cell_type": "markdown",
   "id": "5653e409",
   "metadata": {},
   "source": [
    "<table style=\"float:left\">\n",
    "    <tr>\n",
    "        <th>Data Science Tools</th>\n",
    "    </tr>\n",
    "    <tr>\n",
    "        <td>RStudio</td>\n",
    "    </tr>\n",
    "    <tr>\n",
    "        <td>Apache Spark</td>\n",
    "    </tr>\n",
    "    <tr>\n",
    "        <td>TensorFlow</td>\n",
    "    </tr>\n",
    "</table>"
   ]
  },
  {
   "cell_type": "markdown",
   "id": "0b89d10c",
   "metadata": {},
   "source": [
    "<h5>Exercise 7 - Create a markdown cell introducing arithmetic expression examples</h5>"
   ]
  },
  {
   "cell_type": "markdown",
   "id": "9f4d5947",
   "metadata": {},
   "source": [
    "### Below are a few examples of evaluating arithmetic expressions in Python"
   ]
  },
  {
   "cell_type": "markdown",
   "id": "6db82f4c",
   "metadata": {},
   "source": [
    "<h5>Exercise 8 - Create a code cell to multiply and add numbers</h5>"
   ]
  },
  {
   "cell_type": "code",
   "execution_count": 31,
   "id": "93f67b13",
   "metadata": {},
   "outputs": [
    {
     "data": {
      "text/plain": [
       "17"
      ]
     },
     "execution_count": 31,
     "metadata": {},
     "output_type": "execute_result"
    }
   ],
   "source": [
    "# This a simple arithmetic expression to mutiply then add integers\n",
    "\n",
    "(3*4)+5"
   ]
  },
  {
   "cell_type": "markdown",
   "id": "99203c1a",
   "metadata": {},
   "source": [
    "<h5>Exercise 9 - Create a code cell to convert minutes to hours</h5>"
   ]
  },
  {
   "cell_type": "code",
   "execution_count": 32,
   "id": "605b59ad",
   "metadata": {},
   "outputs": [
    {
     "name": "stdout",
     "output_type": "stream",
     "text": [
      "3 hours, 20 mins. \n"
     ]
    }
   ],
   "source": [
    "#This will convert 200 minutes to hours by diving by 60\n",
    "\n",
    "hours = 0\n",
    "mins = 0\n",
    "\n",
    "time = 200\n",
    "hours = 200 // 60\n",
    "mins = 200 % 60\n",
    "print(str(hours) + \" hours, \" + str(mins) +  \" mins. \")"
   ]
  },
  {
   "cell_type": "markdown",
   "id": "93408c42",
   "metadata": {},
   "source": [
    "<h5>Exercise 11 - Create a markdown cell to indicate the Author's name</h5>"
   ]
  },
  {
   "cell_type": "markdown",
   "id": "4e6e3724",
   "metadata": {},
   "source": [
    "<h2>Author:</h2> Hoang Ngoc Huy"
   ]
  }
 ],
 "metadata": {
  "kernelspec": {
   "display_name": "Python 3 (ipykernel)",
   "language": "python",
   "name": "python3"
  },
  "language_info": {
   "codemirror_mode": {
    "name": "ipython",
    "version": 3
   },
   "file_extension": ".py",
   "mimetype": "text/x-python",
   "name": "python",
   "nbconvert_exporter": "python",
   "pygments_lexer": "ipython3",
   "version": "3.11.5"
  }
 },
 "nbformat": 4,
 "nbformat_minor": 5
}
